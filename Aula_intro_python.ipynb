{
 "cells": [
  {
   "cell_type": "markdown",
   "id": "5cd90e09-3c2d-4e40-a2d7-086d6def4307",
   "metadata": {},
   "source": [
    "# Parte 1"
   ]
  },
  {
   "cell_type": "markdown",
   "id": "e9d76c8a-585c-4db0-839b-fe34295637ef",
   "metadata": {},
   "source": [
    "# Introdução ao Python\n",
    "---------------------------\n",
    "## O que é Python?\n",
    "\n",
    "Python é uma linguagem de programação de alto nível conhecida pela sua sintaxe clara e legibilidade.\n",
    "Foi criada por Guido van Rossum e lançada em 1991.\n",
    "\n",
    "* **Curiosidade:** O Python não tem uma sintaxe que utiliza chaves (`{}`) para definir blocos de código.\n",
    "Em vez disso, utiliza indentação, o que torna o código mais limpo e legível.\n",
    "\n",
    "* Python é uma linguagem **interpretada**, o que significa que o código-fonte é executado diretamente por um interpretador, sem a necessidade de compilação prévia. \n",
    "Isso facilita o desenvolvimento e a depuração, pois as alterações no código podem ser testadas imediatamente sem a etapa adicional de compilação.\n",
    "\n",
    "- Python é versátil e permite que os programadores escolham o paradigma que melhor se adapta ao problema que estão resolvendo. \n",
    "Cada paradigma tem suas vantagens e desvantagens, e a escolha dependerá do contexto e dos objetivos do desenvolvedor. Sendo eles:\n",
    "1. **Programação Imperativa**:\n",
    "\n",
    "    `Explicação`: É como dar instruções específicas para o computador, dizendo o que fazer passo a passo.\n",
    "    \n",
    "    `Exemplo`: \"Vá até a cozinha, pegue um copo, despeje água, e beba.\"\n",
    "    \n",
    "2. **Programação Orientada a Objetos**:\n",
    "\n",
    "    `Explicação`: Trata o código como \"objetos\" que têm características (propriedades) e ações (métodos).\n",
    "\n",
    "    `Exemplo`: Se um objeto é um \"carro\", suas propriedades podem incluir cor e modelo, e suas ações podem ser \"ligar\" ou \"desligar\".\n",
    "\n",
    "3. **Programação Funcional**:\n",
    "\n",
    "    `Explicação`: Encara a computação como avaliação de funções matemáticas, onde a saída depende apenas das entradas.\n",
    "\n",
    "    `Exemplo`: Tratar uma lista de números, aplicar uma função para dobrar cada número, e obter uma nova lista.\n",
    "\n",
    "4. **Programação Procedural**:\n",
    "\n",
    "    `Explicação`: Organiza o código em procedimentos ou rotinas, onde cada procedimento executa uma tarefa específica.\n",
    "\n",
    "    `Exemplo`: Dividir uma tarefa complexa em passos menores e criar procedimentos separados para cada passo.\n",
    "\n",
    "5. **Programação Orientada a Aspectos**:\n",
    "\n",
    "    `Explicação`: Permite modularizar preocupações específicas (aspectos) do código, como logs ou segurança, em módulos separados.\n",
    "\n",
    "    `Exemplo`: Isolar o código relacionado a logs em um módulo separado para facilitar a manutenção.\n",
    "\n"
   ]
  },
  {
   "cell_type": "markdown",
   "id": "d6cf51ce-ec31-4382-8786-54bfbff64574",
   "metadata": {},
   "source": [
    "# Primeiro Programa Python\n",
    "Vamos começar com o tradicional \"Olá, Mundo!\". \n",
    "\n",
    "Esse momento simbólico no estudo de qualquer linguagem de programação marca o primeiro contato prático. Este simples programa, que exibe a mensagem \"Olá, Mundo!\" no console, tem um propósito fundamental: introduzir os conceitos básicos da linguagem em questão, fornecendo uma estrutura mínima para compreensão de sintaxe, declaração de variáveis e exibição de saída. "
   ]
  },
  {
   "cell_type": "code",
   "execution_count": null,
   "id": "10b58f27-01e8-4307-a0ba-b6b435510a07",
   "metadata": {
    "tags": []
   },
   "outputs": [],
   "source": [
    "print(\"Olá, Mundo!\")"
   ]
  },
  {
   "cell_type": "markdown",
   "id": "cd75b99c-df4d-4301-bb78-7d9f7cacf60e",
   "metadata": {},
   "source": [
    "`Explicação`: O `print()` é uma função que exibe o texto no console. O texto deve estar entre aspas, indicando que é uma **string**.\n",
    "\n",
    "`Curiosidade`: Em Python, aspas simples (') e duplas (\") podem ser usadas para definir strings. Isso pode ser útil em situações onde você precisa incluir aspas dentro da string.\n",
    "\n",
    "____________________________________"
   ]
  },
  {
   "cell_type": "markdown",
   "id": "ddc0de80-b94d-4599-af04-21fea0d33f34",
   "metadata": {},
   "source": [
    "# Variáveis e Tipos de dados básicos"
   ]
  },
  {
   "cell_type": "code",
   "execution_count": null,
   "id": "f606943b-a17a-4b44-a07e-a52f0b9ebe9b",
   "metadata": {
    "tags": []
   },
   "outputs": [],
   "source": [
    "mensagem = \"Alerta!\""
   ]
  },
  {
   "cell_type": "code",
   "execution_count": null,
   "id": "2e81333e-e4d6-42db-91bc-9f77e2d0bc61",
   "metadata": {
    "tags": []
   },
   "outputs": [],
   "source": [
    "print(mensagem)"
   ]
  },
  {
   "cell_type": "markdown",
   "id": "ad46b5dc-8786-4679-9b8e-7b90f129a3b4",
   "metadata": {},
   "source": [
    "#### Em Python, você pode armazenar informações em variáveis. Cada variável tem um tipo de dado associado."
   ]
  },
  {
   "cell_type": "code",
   "execution_count": null,
   "id": "e9304ce8-c8e4-4a60-b731-01d0cf1e28dd",
   "metadata": {
    "tags": []
   },
   "outputs": [],
   "source": [
    "idade = 36  \n",
    "altura = 1.74  \n",
    "nome = \"Raphael\"  \n",
    "\n"
   ]
  },
  {
   "cell_type": "code",
   "execution_count": null,
   "id": "c0bdc629-5b00-411c-ab11-5a498491fa92",
   "metadata": {
    "tags": []
   },
   "outputs": [],
   "source": [
    "aula_rolando = True  # Ponto de atenção! Booleanos em Python tem a inicial maiúscula"
   ]
  },
  {
   "cell_type": "code",
   "execution_count": null,
   "id": "52910131-02a7-48fe-9f9e-950bf034904f",
   "metadata": {
    "tags": []
   },
   "outputs": [],
   "source": [
    "teste_booleano_errado = false   # vai gerar um erro, pode executar o resto sem problemas"
   ]
  },
  {
   "cell_type": "code",
   "execution_count": null,
   "id": "ad8be7c4-9bb7-400c-bbdb-a95844eb5d03",
   "metadata": {
    "tags": []
   },
   "outputs": [],
   "source": [
    "type(idade)  # Inteiro"
   ]
  },
  {
   "cell_type": "code",
   "execution_count": null,
   "id": "19405d3d-9d05-49a0-a0de-260e8d046650",
   "metadata": {
    "tags": []
   },
   "outputs": [],
   "source": [
    "type(altura)  # Ponto flutuante"
   ]
  },
  {
   "cell_type": "code",
   "execution_count": null,
   "id": "1a7e15c8-7aff-4c01-bcfe-25c92af03ab7",
   "metadata": {
    "tags": []
   },
   "outputs": [],
   "source": [
    "type(nome) # String"
   ]
  },
  {
   "cell_type": "code",
   "execution_count": null,
   "id": "ac0fc0e0-ea3e-4dbf-96d1-460e5c7207ca",
   "metadata": {
    "tags": []
   },
   "outputs": [],
   "source": [
    "type(aula_rolando) # booleano / valor lógico"
   ]
  },
  {
   "cell_type": "markdown",
   "id": "a8fe3dd6-46cc-49c0-82a5-30721ec1e4af",
   "metadata": {},
   "source": [
    "#### Nomeação e Uso de Variáveis\n",
    "\n",
    "Ao utilizar variáveis em Python, é necessário aderir a algumas regras e diretrizes. Quebrar algumas dessas regras pode resultar em erros, enquanto outras diretrizes ajudam a escrever código mais legível e compreensível. Aqui estão algumas regras a serem lembradas ao trabalhar com variáveis:\n",
    "\n",
    "- Os nomes de variáveis podem conter apenas letras, números e sublinhados. Eles podem começar com uma letra ou sublinhado, mas não com um número.\n",
    "- Espaços não são permitidos nos nomes de variáveis, mas sublinhados podem ser usados para separar palavras.\n",
    "- Evite usar palavras-chave e nomes de funções do Python como nomes de variáveis para evitar conflitos. Por exemplo, não use a palavra \"print\" como nome de variável, pois o Python a reservou para um propósito programático específico.\n",
    "- Os nomes de variáveis devem ser curtos, mas descritivos, visando facilitar a compreensão do código. Por exemplo, \"nome\" é melhor que \"n\", \"nome_do_aluno\" é melhor que \"s_n\", e \"comprimento_do_nome\" é melhor que \"comprimento_de_nome_da_pessoa\".\n",
    "- Tenha cuidado ao usar a letra minúscula \"l\" e a letra maiúscula \"O\", pois podem ser confundidas com os números 1 e 0.\n",
    "\n",
    "Essas diretrizes ajudam a criar nomes de variáveis eficazes e a evitar problemas de legibilidade e confusão no código.\n"
   ]
  },
  {
   "cell_type": "markdown",
   "id": "a4d2910e-fc03-43d3-b3f7-725b2dfbd188",
   "metadata": {},
   "source": [
    "### Comentários em Python\n",
    "\n",
    "Comentários são elementos essenciais em qualquer código, proporcionando clareza e documentação para os desenvolvedores. Em Python, os comentários são precedidos pelo caractere `#` e são ignorados pelo interpretador durante a execução do programa. Aqui estão algumas informações importantes sobre comentários em Python:"
   ]
  },
  {
   "cell_type": "markdown",
   "id": "e966b701-49ce-4ad9-aa04-3b240a23103e",
   "metadata": {},
   "source": [
    "1. Comentários de uma linha são úteis para fornecer esclarecimentos rápidos ou desativar temporariamente uma linha de código."
   ]
  },
  {
   "cell_type": "code",
   "execution_count": null,
   "id": "5f09df95-d099-4fdf-9539-b1c2a00adcbd",
   "metadata": {
    "tags": []
   },
   "outputs": [],
   "source": [
    "# Este é um comentário de uma linha em Python\n",
    "variavel = 10  # Comentário na mesma linha de código\n",
    "\n",
    "variavel"
   ]
  },
  {
   "cell_type": "markdown",
   "id": "3652aa87-ce82-43a5-963a-79b0ef11b3df",
   "metadata": {},
   "source": [
    "2. Além dos comentários de uma linha, Python suporta comentários de múltiplas linhas delimitados por três aspas simples ou duplas."
   ]
  },
  {
   "cell_type": "code",
   "execution_count": null,
   "id": "44f074e9-92a9-4dca-8920-bcb5e0661b6f",
   "metadata": {
    "tags": []
   },
   "outputs": [],
   "source": [
    "\"\"\"\n",
    "Este é um comentário\n",
    "de múltiplas linhas em Python.\n",
    "Pode ser usado para documentar\n",
    "blocos de código extensos.\n",
    "\"\"\""
   ]
  },
  {
   "cell_type": "markdown",
   "id": "68cc6008-466c-44ce-a1c3-4588b31bee38",
   "metadata": {},
   "source": [
    "3. Boas Práticas de Comentários:\n",
    "- Comente sempre que necessário para explicar decisões de design, algoritmos complexos ou partes críticas do código.\n",
    "- Evite comentários óbvios; foque em fornecer insights que não são imediatamente claros no código.\n",
    "- Mantenha os comentários atualizados conforme o código evolui."
   ]
  },
  {
   "cell_type": "markdown",
   "id": "71b19720-4bf5-4161-9d61-0f9b4befbcb0",
   "metadata": {},
   "source": [
    "# Operações Básicas em Python\n",
    "\n",
    "Em Python, você pode realizar uma variedade de operações básicas para manipular dados. Vamos explorar algumas das operações mais comuns.\n",
    "\n",
    "## Operações Aritméticas\n",
    "\n",
    "As operações aritméticas permitem que você realize cálculos matemáticos básicos.\n",
    "\n",
    "\n"
   ]
  },
  {
   "cell_type": "markdown",
   "id": "77af7d2b-a396-400a-8be0-90de1c08b8ca",
   "metadata": {},
   "source": [
    "### Adição (+)"
   ]
  },
  {
   "cell_type": "code",
   "execution_count": null,
   "id": "f296f505-77ca-47fe-8c18-06457a530189",
   "metadata": {
    "tags": []
   },
   "outputs": [],
   "source": [
    "5 + 3\n"
   ]
  },
  {
   "cell_type": "markdown",
   "id": "6e19266a-28f3-44d6-977f-b0a5786f6c33",
   "metadata": {
    "tags": []
   },
   "source": [
    "### Subtração (-)"
   ]
  },
  {
   "cell_type": "code",
   "execution_count": null,
   "id": "028623bf-723e-4e7f-95c1-28dd50c04523",
   "metadata": {
    "tags": []
   },
   "outputs": [],
   "source": [
    "7 - 2"
   ]
  },
  {
   "cell_type": "markdown",
   "id": "15434bcf-9498-4481-a1bc-4678a546ad17",
   "metadata": {},
   "source": [
    "### Multiplicação ( * )"
   ]
  },
  {
   "cell_type": "code",
   "execution_count": null,
   "id": "1da3d4b5-9123-44a2-83e8-7d5f5b10e722",
   "metadata": {
    "tags": []
   },
   "outputs": [],
   "source": [
    "4 * 6"
   ]
  },
  {
   "cell_type": "markdown",
   "id": "77f1c5ff-b596-4457-984e-6edcd47c9d99",
   "metadata": {},
   "source": [
    "### Potenciação ( ** )"
   ]
  },
  {
   "cell_type": "code",
   "execution_count": null,
   "id": "92a2cca4-4899-4a37-81af-6e5cbd3c2fad",
   "metadata": {
    "tags": []
   },
   "outputs": [],
   "source": [
    "2 ** 5"
   ]
  },
  {
   "cell_type": "code",
   "execution_count": null,
   "id": "42541489-cc47-43fc-bd27-2c40d04e93e8",
   "metadata": {
    "tags": []
   },
   "outputs": [],
   "source": [
    "81 ** (1/2)"
   ]
  },
  {
   "cell_type": "markdown",
   "id": "7666c853-1fba-4e21-8c48-e65105d410b6",
   "metadata": {},
   "source": [
    "###"
   ]
  },
  {
   "cell_type": "markdown",
   "id": "133d3d55-a4ca-41fd-bd00-567ec68e36db",
   "metadata": {},
   "source": [
    "### Divisão ( / )"
   ]
  },
  {
   "cell_type": "code",
   "execution_count": null,
   "id": "d7c980cc-8579-4eba-9e7e-faf723ee5fbf",
   "metadata": {
    "tags": []
   },
   "outputs": [],
   "source": [
    "78 / 7"
   ]
  },
  {
   "cell_type": "markdown",
   "id": "de0f7959-a9d0-443a-be91-6253543ba269",
   "metadata": {},
   "source": [
    "### Divisão Inteira ( // )"
   ]
  },
  {
   "cell_type": "code",
   "execution_count": null,
   "id": "62ae0b40-63b5-46d3-9814-6f5fdb7cf7cd",
   "metadata": {
    "tags": []
   },
   "outputs": [],
   "source": [
    "78 // 7"
   ]
  },
  {
   "cell_type": "markdown",
   "id": "c1f5b6e9-1cf0-45a3-8311-4fb3187973b7",
   "metadata": {},
   "source": [
    "### Resto da Divisão ( % )"
   ]
  },
  {
   "cell_type": "code",
   "execution_count": null,
   "id": "6a021d2e-a843-495d-9065-44bbb021f632",
   "metadata": {
    "tags": []
   },
   "outputs": [],
   "source": [
    "5 % 2 "
   ]
  },
  {
   "cell_type": "markdown",
   "id": "fe486ad3-0a16-47d1-8b8e-5c67245957d1",
   "metadata": {},
   "source": [
    "----------------------"
   ]
  },
  {
   "cell_type": "markdown",
   "id": "11fd442e-755d-4e02-97c7-1e14d7df1435",
   "metadata": {},
   "source": [
    "# Operações de atribuição\n",
    "São usadas para atribuir valores a variáveis."
   ]
  },
  {
   "cell_type": "markdown",
   "id": "6481466f-fc0f-4166-8d18-146f66fcfee9",
   "metadata": {},
   "source": [
    "### Atribuição Simples ( = )"
   ]
  },
  {
   "cell_type": "code",
   "execution_count": null,
   "id": "a5ef338e-e117-41d6-8573-228212fcb5c4",
   "metadata": {},
   "outputs": [],
   "source": [
    "x = 10\n",
    "# A variável 'x' recebe o valor 10\n"
   ]
  },
  {
   "cell_type": "markdown",
   "id": "d5c86585-f170-4423-8a6c-3753ee5a543d",
   "metadata": {},
   "source": [
    "`Curiosidade`: Ao escrever números grandes, é possível usar underscores ( _ ) para melhorar a legibilidade"
   ]
  },
  {
   "cell_type": "code",
   "execution_count": null,
   "id": "eca2b58c-5b1d-43a2-8913-318e11c004c7",
   "metadata": {
    "tags": []
   },
   "outputs": [],
   "source": [
    "universe_age = 14_000_000_000\n",
    "print(universe_age)"
   ]
  },
  {
   "cell_type": "markdown",
   "id": "f3181620-7c53-4105-85ba-5ae81daaffdc",
   "metadata": {},
   "source": [
    "`Curiosidade`: o Python permite múltiplas atribuições simultaneas. Isso pode diminuir a quantidade de código:"
   ]
  },
  {
   "cell_type": "code",
   "execution_count": null,
   "id": "cdf235db-f57e-4803-a1e0-50fb1353b0d5",
   "metadata": {
    "tags": []
   },
   "outputs": [],
   "source": [
    "x, y, z = \"a\", 70, -54.290"
   ]
  },
  {
   "cell_type": "code",
   "execution_count": null,
   "id": "e73e8366-3947-44a6-ba7e-93514209d6d4",
   "metadata": {
    "tags": []
   },
   "outputs": [],
   "source": [
    "print(x, y, z)"
   ]
  },
  {
   "cell_type": "markdown",
   "id": "d874dbe4-ad73-48ad-8e7b-fe50f15d41d9",
   "metadata": {},
   "source": [
    "`Curiosidade`: Não existe implementação nativa de constantes em Python. A convenção é definir uma variável com o nome em maiúsculas."
   ]
  },
  {
   "cell_type": "code",
   "execution_count": null,
   "id": "d7ff7fec-8501-4391-8906-5513830c716d",
   "metadata": {
    "tags": []
   },
   "outputs": [],
   "source": [
    "MAX_CONNECTION = 5000"
   ]
  },
  {
   "cell_type": "markdown",
   "id": "a2ace6cc-0fef-4bd2-9759-e7a36e74c5cf",
   "metadata": {},
   "source": [
    "### Atribuição com Operação Aritmética"
   ]
  },
  {
   "cell_type": "code",
   "execution_count": null,
   "id": "f4c4d26b-0c8d-4d35-952e-74fd988ce705",
   "metadata": {
    "tags": []
   },
   "outputs": [],
   "source": [
    "y = 5\n",
    "y += 3\n",
    "# Agora, a variável 'y' que vale 5, recebe +3 (equivalente a 'y = y + 3')\n",
    "\n",
    "y"
   ]
  },
  {
   "cell_type": "markdown",
   "id": "6040c35e-a748-4bfa-9502-c25c74c297d6",
   "metadata": {},
   "source": [
    "------------------"
   ]
  },
  {
   "cell_type": "markdown",
   "id": "bd3e42c3-706f-42fd-8856-3112640d05ec",
   "metadata": {
    "tags": []
   },
   "source": [
    "## Operações de comparação (operações lógicas)\n",
    "Os comparadores são utilizados para realizar comparações entre valores. Aqui estão alguns dos principais comparadores:\n"
   ]
  },
  {
   "cell_type": "markdown",
   "id": "89e2e2e9-4856-4287-ac84-f6f150dd8b0c",
   "metadata": {},
   "source": [
    "## Igualdade ( == )\n",
    "\n",
    "O operador de igualdade verifica se dois valores são iguais."
   ]
  },
  {
   "cell_type": "code",
   "execution_count": null,
   "id": "7bae112f-028c-4181-b141-feeca24cd328",
   "metadata": {
    "tags": []
   },
   "outputs": [],
   "source": [
    "numero_1 = 10\n",
    "numero_2 = 5\n",
    "\n",
    "resultado = numero_1 == numero_2\n",
    "resultado"
   ]
  },
  {
   "cell_type": "markdown",
   "id": "7c3f66e9-baa6-4011-a446-32ea23eb4c16",
   "metadata": {},
   "source": [
    "## Desigualdade ( != )\n",
    "\n",
    "O operador de igualdade verifica se dois valores são diferentes."
   ]
  },
  {
   "cell_type": "code",
   "execution_count": null,
   "id": "4d662c59-9fb8-4de1-bce8-8be77729227c",
   "metadata": {
    "tags": []
   },
   "outputs": [],
   "source": [
    "texto_1 = \"Python\"\n",
    "texto_2 = \"Java\"\n",
    "\n",
    "resultado = texto_1 != texto_2"
   ]
  },
  {
   "cell_type": "code",
   "execution_count": null,
   "id": "a8ee39e2-19ac-43d4-9b5f-f732080227f4",
   "metadata": {},
   "outputs": [],
   "source": []
  },
  {
   "cell_type": "markdown",
   "id": "468aaaf4-e3ea-477a-8c54-fac74eae1898",
   "metadata": {
    "tags": []
   },
   "source": [
    "## Maior que ( > ), Menor que ( < )\n",
    "Os operadores maior que e menor que comparam se um valor é estritamente maior ou menor que outro."
   ]
  },
  {
   "cell_type": "code",
   "execution_count": null,
   "id": "9a5430e3-2f65-4c7c-9277-ceb38f7001b9",
   "metadata": {
    "tags": []
   },
   "outputs": [],
   "source": [
    "idade_1 = 25\n",
    "idade_2 = 30\n",
    "\n",
    "resultado_maior = idade_2 > idade_1  \n",
    "resultado_menor = idade_1 < idade_2 \n"
   ]
  },
  {
   "cell_type": "code",
   "execution_count": null,
   "id": "f8e085d5-7570-4640-b994-525284bc039f",
   "metadata": {},
   "outputs": [],
   "source": []
  },
  {
   "cell_type": "markdown",
   "id": "a26bd770-f8a5-4da5-a3e0-188b4822de26",
   "metadata": {},
   "source": [
    "## Maior ou Igual ( >= ), Menor ou Igual ( <= )\n",
    "Os operadores maior ou igual e menor ou igual comparam se um valor é maior ou igual, ou menor ou igual, respectivamente."
   ]
  },
  {
   "cell_type": "code",
   "execution_count": null,
   "id": "dc06ca57-66d2-434e-b68d-933f5d79f9a4",
   "metadata": {
    "tags": []
   },
   "outputs": [],
   "source": [
    "nota_1 = 80\n",
    "nota_2 = 90\n",
    "\n",
    "resultado_maior_igual = nota_2 >= nota_1  \n",
    "resultado_menor_igual = nota_1 <= nota_2\n"
   ]
  },
  {
   "cell_type": "code",
   "execution_count": null,
   "id": "6682e3ce-645a-4083-a1b3-c48f7edbb611",
   "metadata": {},
   "outputs": [],
   "source": []
  },
  {
   "cell_type": "markdown",
   "id": "34ef335d-ee94-48f6-a91e-97ef2498e8ae",
   "metadata": {},
   "source": [
    "----------------------------------"
   ]
  },
  {
   "cell_type": "markdown",
   "id": "89e2e81f-5846-4b50-9a77-4e50681da2e4",
   "metadata": {
    "tags": []
   },
   "source": [
    "# Comparadores Lógicos"
   ]
  },
  {
   "cell_type": "markdown",
   "id": "75c650fc-ffd4-4e47-9e3d-518994dbdee0",
   "metadata": {},
   "source": [
    "## E Lógico (`and`)\n",
    "\n",
    "O operador `and` retorna True se ambas as expressões lógicas forem verdadeiras.\n"
   ]
  },
  {
   "cell_type": "code",
   "execution_count": null,
   "id": "82044457-022f-45c3-a848-76b5fa66ac1d",
   "metadata": {},
   "outputs": [],
   "source": [
    "idade = 25\n",
    "tem_cartao = True\n",
    "\n",
    "pode_comprar_bebida = idade >= 18 and tem_cartao  \n"
   ]
  },
  {
   "cell_type": "code",
   "execution_count": null,
   "id": "a048d0f3-bc62-4fc9-9444-1051115744ec",
   "metadata": {},
   "outputs": [],
   "source": []
  },
  {
   "cell_type": "markdown",
   "id": "fee1fc5e-af76-407a-9c91-c944d93c3ca3",
   "metadata": {},
   "source": [
    "## OU Lógico (`or`)\n",
    "O operador or retorna True se pelo menos uma das expressões lógicas for verdadeira."
   ]
  },
  {
   "cell_type": "code",
   "execution_count": null,
   "id": "959679b1-6da1-42ef-a7f4-23005dcad1a4",
   "metadata": {
    "tags": []
   },
   "outputs": [],
   "source": [
    "dia_util = True\n",
    "tem_reuniao = False\n",
    "\n",
    "precisa_ir_trabalho = dia_util or tem_reuniao  \n"
   ]
  },
  {
   "cell_type": "markdown",
   "id": "4cc9eb40-0c7f-4afb-b303-fdcba9499d65",
   "metadata": {},
   "source": [
    "## NÃO Lógico (`not`)\n",
    "O operador not inverte o valor lógico, transformando True em False e vice-versa."
   ]
  },
  {
   "cell_type": "code",
   "execution_count": null,
   "id": "ffb03fbe-5c91-40df-8cf3-111f08273a08",
   "metadata": {
    "tags": []
   },
   "outputs": [],
   "source": [
    "temperatura = 30\n",
    "\n",
    "dia_frio = not temperatura > 25  \n"
   ]
  },
  {
   "cell_type": "code",
   "execution_count": null,
   "id": "1aa41f87-4c5e-4243-bf27-bebfeba9ca06",
   "metadata": {
    "tags": []
   },
   "outputs": [],
   "source": [
    "dia_frio"
   ]
  },
  {
   "cell_type": "code",
   "execution_count": null,
   "id": "a2e2bd79-b1e5-4fd4-a7a2-622b78a5ec0b",
   "metadata": {
    "tags": []
   },
   "outputs": [],
   "source": [
    "\"Segunda-feira\" != \"segunda-feira\""
   ]
  },
  {
   "cell_type": "code",
   "execution_count": null,
   "id": "3479948d-3e2f-4864-971e-d1a4de596bc9",
   "metadata": {},
   "outputs": [],
   "source": []
  }
 ],
 "metadata": {
  "kernelspec": {
   "display_name": "Python 3 (ipykernel)",
   "language": "python",
   "name": "python3"
  },
  "language_info": {
   "codemirror_mode": {
    "name": "ipython",
    "version": 3
   },
   "file_extension": ".py",
   "mimetype": "text/x-python",
   "name": "python",
   "nbconvert_exporter": "python",
   "pygments_lexer": "ipython3",
   "version": "3.9.7"
  }
 },
 "nbformat": 4,
 "nbformat_minor": 5
}
